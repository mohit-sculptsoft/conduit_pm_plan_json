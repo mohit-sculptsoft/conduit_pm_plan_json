{
 "cells": [
  {
   "cell_type": "code",
   "execution_count": 46,
   "id": "8e874197",
   "metadata": {},
   "outputs": [],
   "source": [
    "import openpyxl"
   ]
  },
  {
   "cell_type": "code",
   "execution_count": 47,
   "id": "48b9faa2",
   "metadata": {},
   "outputs": [],
   "source": [
    "path = \"../src/configs-v2.xlsx\""
   ]
  },
  {
   "cell_type": "code",
   "execution_count": 48,
   "id": "8b19caac",
   "metadata": {},
   "outputs": [],
   "source": [
    "wb_obj = openpyxl.load_workbook(path)"
   ]
  },
  {
   "cell_type": "code",
   "execution_count": 49,
   "id": "77df6752",
   "metadata": {},
   "outputs": [
    {
     "name": "stdout",
     "output_type": "stream",
     "text": [
      "['ch.11', 'ch.12', 'ch.13', 'ch.14', 'ch.15', 'ch.16', 'ch.17', 'ch.18', 'ch.19', 'ch.20', 'ch.21', 'ch.25', 'ch.27', 'ch.29', 'ch.30', 'ch.31', 'ch.32', 'ch.33', 'ch.35', 'ch.36', '70B Standard Plans', '70B Enhanced Plans']\n"
     ]
    }
   ],
   "source": [
    "print(wb_obj.sheetnames)"
   ]
  },
  {
   "cell_type": "code",
   "execution_count": 50,
   "id": "80d952da",
   "metadata": {},
   "outputs": [],
   "source": [
    "sheet_obj = wb_obj['ch.11']"
   ]
  },
  {
   "cell_type": "code",
   "execution_count": 51,
   "id": "b6af4797",
   "metadata": {},
   "outputs": [],
   "source": [
    "def fetch_filename(sheet_obj):\n",
    "    #create file names\n",
    "\n",
    "    in_group = False\n",
    "    header_row = None\n",
    "    data_row = None\n",
    "    file_name_lst = []\n",
    "    file_name_dict = {}\n",
    "\n",
    "\n",
    "    for row in sheet_obj.iter_rows(values_only=True):\n",
    "        if any(row):  \n",
    "            if not in_group:\n",
    "                header_row = None\n",
    "                data_row = None\n",
    "                in_group = True\n",
    "            if header_row is None:\n",
    "                header_row = row\n",
    "            elif data_row is None:\n",
    "                data_row = row\n",
    "                result_dict = dict(zip(header_row, data_row))\n",
    "                file_name_lst.append(result_dict)\n",
    "        elif in_group:\n",
    "            in_group = False\n",
    "\n",
    "    # Print the list of dictionaries\n",
    "    for i, result_dict in enumerate(file_name_lst, start=1):\n",
    "\n",
    "        filename = f\"{result_dict['assetClassCode']}-{result_dict['planName']}-{result_dict['formTitle']}.xlsx\"\n",
    "\n",
    "        file_name_dict[f'Group_{i}'] = filename\n",
    "\n",
    "    print(file_name_dict)\n",
    "    \n",
    "    return file_name_dict"
   ]
  },
  {
   "cell_type": "code",
   "execution_count": 52,
   "id": "2d618778",
   "metadata": {},
   "outputs": [
    {
     "name": "stdout",
     "output_type": "stream",
     "text": [
      "{'Group_1': 'OFTR-70B-ENHANCED-NFPA 70B® Enhanced Fluid Sample Analysis Form.xlsx', 'Group_2': 'OFTR-70B-STANDARD-NFPA 70B® Standard Fluid Sample Analysis Form.xlsx', 'Group_3': 'OFTR-BASIC-XFMR-Basic Transformer Fluid Sample Analysis Form.xlsx', 'Group_4': 'DTTR-LV-70B-ENHANCED-NFPA 70B® Enhanced De-Energized Visual Inspection Form.xlsx', 'Group_5': 'DTTR-MV-70B-ENHANCED-NFPA 70B® Enhanced De-Energized Visual Insepction Form.xlsx', 'Group_6': 'OFTR-70B-ENHANCED-NFPA 70B® Enhanced De-Energized Visual Insepction Form.xlsx', 'Group_7': 'DTTR-LV-70B-STANDARD-NFPA 70B® Standard De-Energized Visual Inspection Form.xlsx', 'Group_8': 'DTTR-MV-70B-STANDARD-NFPA 70B® Standard De-Energized Visual Inspection Form.xlsx', 'Group_9': 'OFTR-70B-STANDARD-NFPA 70B® Standard De-Energized Visual Inspection Form.xlsx', 'Group_10': 'DTTR-LV-BASIC-Basic Energized Visual Inspection Form.xlsx', 'Group_11': 'DTTR-MV-BASIC-Basic Energized Visual Inspection Form.xlsx', 'Group_12': 'OFTR-BASIC-Basic Energized Visual Inspection Form.xlsx', 'Group_13': 'DTTR-LV-70B-ENHANCED-NFPA 70B® Enhanced De-Energized Cleaning Form.xlsx', 'Group_14': 'DTTR-MV-70B-ENHANCED-NFPA 70B® Enhanced De-Energized Cleaning Form.xlsx', 'Group_15': 'OFTR-70B-ENHANCED-NFPA 70B® Enhanced De-Energized Cleaning Form.xlsx', 'Group_16': 'DTTR-LV-70B-STANDARD-NFPA 70B® Standard De-Energized Cleaning Form.xlsx', 'Group_17': 'DTTR-MV-70B-STANDARD-NFPA 70B® Standard De-Energized Cleaning Form.xlsx', 'Group_18': 'OFTR-70B-STANDARD-NFPA 70B® Standard De-Energized Cleaning Form.xlsx', 'Group_19': 'DTTR-LV-70B-ENHANCED-NFPA 70B® Enhanced De-Energized Mechanical Servicing Form.xlsx', 'Group_20': 'DTTR-MV-70B-ENHANCED-NFPA 70B® Enhanced De-Energized Mechanical Servicing Form.xlsx', 'Group_21': 'OFTR-70B-ENHANCED-NFPA 70B® Enhanced De-Energized Mechanical Servicing Form.xlsx', 'Group_22': 'DTTR-LV-70B-STANDARD-NFPA 70B® Standard De-Energized Mechanical Servicing Form.xlsx', 'Group_23': 'DTTR-MV-70B-STANDARD-NFPA 70B® Standard De-Energized Mechanical Servicing Form.xlsx', 'Group_24': 'OFTR-70B-STANDARD-NFPA 70B® Standard De-Energized Mechanical Servicing Form.xlsx', 'Group_25': 'DTTR-LV-70B-ENHANCED-NFPA 70B® Enhanced De-Energized Electrical Testing Form.xlsx', 'Group_26': 'DTTR-MV-70B-ENHANCED-NFPA 70B® Enhanced De-Energized* Electrical Testing Form.xlsx', 'Group_27': 'OFTR-70B-ENHANCED-NFPA 70B® Enhanced De-Energized* Electrical Testing Form.xlsx', 'Group_28': 'DTTR-LV-70B-STANDARD-NFPA 70B® Standard De-Energized Electrical Testing Form.xlsx', 'Group_29': 'DTTR-MV-70B-STANDARD-NFPA 70B® Standard De-Energized* Electrical Testing Form.xlsx', 'Group_30': 'OFTR-70B-STANDARD-NFPA 70B® Standard De-Energized Electrical Testing Form.xlsx'}\n"
     ]
    }
   ],
   "source": [
    "file_name_dict = fetch_filename(sheet_obj)"
   ]
  },
  {
   "cell_type": "code",
   "execution_count": 54,
   "id": "4c58630d",
   "metadata": {},
   "outputs": [],
   "source": [
    "in_group = False\n",
    "current_group = None\n",
    "file_counter = 1\n",
    "new_file_loc = '../sheets/'\n",
    "\n",
    "for row in sheet_obj.iter_rows(values_only=True):\n",
    "    if any(row):  \n",
    "        \n",
    "        if not in_group:\n",
    "            \n",
    "            current_group = openpyxl.Workbook()\n",
    "            in_group = True\n",
    "            file_name = file_name_dict[f'Group_{file_counter}']\n",
    "            file_counter += 1\n",
    "            current_group_sheet = current_group.active\n",
    "            \n",
    "        current_group_sheet.append(row)  \n",
    "    \n",
    "    elif in_group:\n",
    "\n",
    "        in_group = False\n",
    "        \n",
    "        current_group.save(new_file_loc+file_name)"
   ]
  },
  {
   "cell_type": "code",
   "execution_count": null,
   "id": "77aef261",
   "metadata": {},
   "outputs": [],
   "source": []
  }
 ],
 "metadata": {
  "kernelspec": {
   "display_name": "my-python3-conduit",
   "language": "python",
   "name": "my-python3-conduit"
  },
  "language_info": {
   "codemirror_mode": {
    "name": "ipython",
    "version": 3
   },
   "file_extension": ".py",
   "mimetype": "text/x-python",
   "name": "python",
   "nbconvert_exporter": "python",
   "pygments_lexer": "ipython3",
   "version": "3.8.10"
  }
 },
 "nbformat": 4,
 "nbformat_minor": 5
}
