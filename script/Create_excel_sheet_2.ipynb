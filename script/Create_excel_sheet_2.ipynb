{
 "cells": [
  {
   "cell_type": "code",
   "execution_count": 14,
   "id": "79dfad16",
   "metadata": {},
   "outputs": [],
   "source": [
    "import openpyxl\n",
    "import os"
   ]
  },
  {
   "cell_type": "code",
   "execution_count": 15,
   "id": "de6a20fb",
   "metadata": {},
   "outputs": [],
   "source": [
    "def fetch_filename(sheet_obj):\n",
    "    #create file names\n",
    "\n",
    "    in_group = False\n",
    "    header_row = None\n",
    "    data_row = None\n",
    "    file_name_lst = []\n",
    "    file_name_dict = {}\n",
    "\n",
    "\n",
    "    for row in sheet_obj.iter_rows(values_only=True):\n",
    "        if any(row):  \n",
    "            if not in_group:\n",
    "                header_row = None\n",
    "                data_row = None\n",
    "                in_group = True\n",
    "            if header_row is None:\n",
    "                header_row = row\n",
    "            elif data_row is None:\n",
    "                data_row = row\n",
    "                result_dict = dict(zip(header_row, data_row))\n",
    "                file_name_lst.append(result_dict)\n",
    "        elif in_group:\n",
    "            in_group = False\n",
    "\n",
    "    # Print the list of dictionaries\n",
    "    for i, result_dict in enumerate(file_name_lst, start=1):\n",
    "\n",
    "        filename = f\"{result_dict['assetClassCode']}-{result_dict['planName']}-{result_dict['formTitle'].replace('/','-')}.xlsx\"\n",
    "\n",
    "        file_name_dict[f'Group_{i}'] = filename\n",
    "    \n",
    "    return file_name_dict"
   ]
  },
  {
   "cell_type": "code",
   "execution_count": 16,
   "id": "2464e077",
   "metadata": {},
   "outputs": [],
   "source": [
    "def create_sheets(sheet_obj, file_name_dict, store_dir):\n",
    "\n",
    "    in_group = False\n",
    "    current_group = None\n",
    "    file_counter = 1\n",
    "\n",
    "    for row in sheet_obj.iter_rows(values_only=True):\n",
    "        if any(row):  \n",
    "\n",
    "            if not in_group:\n",
    "\n",
    "                current_group = openpyxl.Workbook()\n",
    "                in_group = True\n",
    "                file_name = file_name_dict[f'Group_{file_counter}']\n",
    "                file_counter += 1\n",
    "                current_group_sheet = current_group.active\n",
    "\n",
    "            current_group_sheet.append(row)  \n",
    "\n",
    "        elif in_group:\n",
    "\n",
    "            in_group = False\n",
    "\n",
    "            current_group.save(store_dir+file_name)"
   ]
  },
  {
   "cell_type": "code",
   "execution_count": 17,
   "id": "34f269e8",
   "metadata": {},
   "outputs": [],
   "source": [
    "src_file_path = \"../src/configs-v2.xlsx\"\n",
    "save_dir = \"../sheets/\""
   ]
  },
  {
   "cell_type": "code",
   "execution_count": 18,
   "id": "75e101dc",
   "metadata": {},
   "outputs": [
    {
     "name": "stdout",
     "output_type": "stream",
     "text": [
      "../sheets/ch.11/\n",
      "Folder ../sheets/ch.11/ created!\n",
      "../sheets/ch.12/\n",
      "Folder ../sheets/ch.12/ created!\n",
      "../sheets/ch.13/\n",
      "Folder ../sheets/ch.13/ created!\n",
      "../sheets/ch.14/\n",
      "Folder ../sheets/ch.14/ created!\n",
      "../sheets/ch.15/\n",
      "Folder ../sheets/ch.15/ created!\n",
      "../sheets/ch.16/\n",
      "Folder ../sheets/ch.16/ created!\n",
      "../sheets/ch.17/\n",
      "Folder ../sheets/ch.17/ created!\n",
      "../sheets/ch.18/\n",
      "Folder ../sheets/ch.18/ created!\n",
      "../sheets/ch.19/\n",
      "Folder ../sheets/ch.19/ created!\n",
      "../sheets/ch.20/\n",
      "Folder ../sheets/ch.20/ created!\n",
      "../sheets/ch.21/\n",
      "Folder ../sheets/ch.21/ created!\n",
      "../sheets/ch.25/\n",
      "Folder ../sheets/ch.25/ created!\n",
      "../sheets/ch.27/\n",
      "Folder ../sheets/ch.27/ created!\n",
      "../sheets/ch.29/\n",
      "Folder ../sheets/ch.29/ created!\n",
      "../sheets/ch.30/\n",
      "Folder ../sheets/ch.30/ created!\n",
      "../sheets/ch.31/\n",
      "Folder ../sheets/ch.31/ created!\n",
      "../sheets/ch.32/\n",
      "Folder ../sheets/ch.32/ created!\n",
      "../sheets/ch.33/\n",
      "Folder ../sheets/ch.33/ created!\n",
      "../sheets/ch.35/\n",
      "Folder ../sheets/ch.35/ created!\n",
      "../sheets/ch.36/\n",
      "Folder ../sheets/ch.36/ created!\n"
     ]
    }
   ],
   "source": [
    "wb_obj = openpyxl.load_workbook(src_file_path)\n",
    "\n",
    "for i in wb_obj.sheetnames:\n",
    "    \n",
    "    if \"ch.\" in i:\n",
    "        \n",
    "        path = f'{save_dir}{i}/'\n",
    "        print(path)\n",
    "\n",
    "        if not os.path.exists(path):\n",
    "            os.mkdir(path)\n",
    "            print(\"Folder %s created!\" % path)\n",
    "        else:\n",
    "            print(\"Folder %s already exists\" % path)\n",
    "        \n",
    "        sheet_obj = wb_obj[i]\n",
    "        file_name_dict = fetch_filename(sheet_obj)\n",
    "        create_sheets(sheet_obj, file_name_dict, path)\n",
    "            "
   ]
  },
  {
   "cell_type": "code",
   "execution_count": null,
   "id": "60aa4df5",
   "metadata": {},
   "outputs": [],
   "source": []
  }
 ],
 "metadata": {
  "kernelspec": {
   "display_name": "my-python3-conduit",
   "language": "python",
   "name": "my-python3-conduit"
  },
  "language_info": {
   "codemirror_mode": {
    "name": "ipython",
    "version": 3
   },
   "file_extension": ".py",
   "mimetype": "text/x-python",
   "name": "python",
   "nbconvert_exporter": "python",
   "pygments_lexer": "ipython3",
   "version": "3.8.10"
  }
 },
 "nbformat": 4,
 "nbformat_minor": 5
}
